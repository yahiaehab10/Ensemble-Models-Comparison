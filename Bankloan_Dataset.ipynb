{
 "cells": [
  {
   "cell_type": "markdown",
   "metadata": {},
   "source": [
    "# BankLoan Dataset\n",
    "Responsibility : Yahia Ehab"
   ]
  },
  {
   "cell_type": "markdown",
   "metadata": {},
   "source": [
    "## Imports"
   ]
  },
  {
   "cell_type": "code",
   "execution_count": 97,
   "metadata": {},
   "outputs": [],
   "source": [
    "# For data manipulation and analysis\n",
    "import pandas as pd\n",
    "import numpy as np\n",
    "\n",
    "# For data preprocessing\n",
    "from sklearn.preprocessing import StandardScaler, LabelEncoder\n",
    "from sklearn.model_selection import train_test_split\n",
    "\n",
    "# For implementing ensemble models\n",
    "from sklearn.ensemble import (\n",
    "    RandomForestClassifier,\n",
    "    AdaBoostClassifier,\n",
    "    GradientBoostingClassifier,\n",
    ")\n",
    "\n",
    "# For hyperparameter tuning\n",
    "from sklearn.model_selection import GridSearchCV, RandomizedSearchCV\n",
    "\n",
    "# For model evaluation\n",
    "from sklearn.metrics import accuracy_score, precision_score, recall_score, f1_score\n",
    "\n",
    "# For visualization\n",
    "import matplotlib.pyplot as plt\n",
    "import seaborn as sns"
   ]
  },
  {
   "cell_type": "markdown",
   "metadata": {},
   "source": [
    "## Dataset Selection"
   ]
  },
  {
   "cell_type": "code",
   "execution_count": 98,
   "metadata": {},
   "outputs": [],
   "source": [
    "df = pd.read_csv(\"./AMLAss1Datasets/bankloan.csv\")  # Suitable for regression"
   ]
  },
  {
   "cell_type": "markdown",
   "metadata": {},
   "source": [
    "## Preprocessing\n",
    "\n",
    "* Dataset has no nulls\n",
    "* Choosing only columns that we will use\n",
    "* Scaling the numerical features \n",
    "    ```python\n",
    "    StandardScaler() #Scaling data to fit a standard normal distribution\n",
    "    ```\n",
    "* Encoding the categorical features\n",
    "    ```python\n",
    "    label_encoder = LabelEncoder() #Convert categorical variables into numerical format\n",
    "    ```\n",
    "* Removing outliers using `IQR` method"
   ]
  },
  {
   "cell_type": "code",
   "execution_count": 99,
   "metadata": {},
   "outputs": [],
   "source": [
    "df = df[\n",
    "    [\n",
    "        \"Age\", \"Experience\", \"Income\",\n",
    "        \"Family\", \"CCAvg\", \"Education\",\n",
    "        \"Mortgage\", \"Personal.Loan\", \"Securities.Account\",\n",
    "        \"CD.Account\", \"Online\", \"CreditCard\",\n",
    "    ]\n",
    "]\n",
    "\n",
    "# Renaming the columns\n",
    "df.columns = [\n",
    "    \"age\", \"experience\", \"income\", \"family\",\n",
    "    \"cc_avg\",\"education\", \"mortgage\", \n",
    "    \"personal_loan\", \"securities_account\", \n",
    "    \"cd_account\", \"online\", \"credit_card\",\n",
    "]"
   ]
  },
  {
   "cell_type": "code",
   "execution_count": 100,
   "metadata": {},
   "outputs": [],
   "source": [
    "# Scaling the numerical features\n",
    "scaler = StandardScaler()\n",
    "df[[\"age\", \"experience\", \"income\", \"cc_avg\", \"mortgage\"]] = scaler.fit_transform(\n",
    "    df[[\"age\", \"experience\", \"income\", \"cc_avg\", \"mortgage\"]]\n",
    ")\n",
    "\n",
    "# Encoding the categorical features\n",
    "label_encoder = LabelEncoder()\n",
    "df[\"education\"] = label_encoder.fit_transform(df[\"education\"])"
   ]
  },
  {
   "cell_type": "code",
   "execution_count": 101,
   "metadata": {},
   "outputs": [
    {
     "data": {
      "text/html": [
       "<div>\n",
       "<style scoped>\n",
       "    .dataframe tbody tr th:only-of-type {\n",
       "        vertical-align: middle;\n",
       "    }\n",
       "\n",
       "    .dataframe tbody tr th {\n",
       "        vertical-align: top;\n",
       "    }\n",
       "\n",
       "    .dataframe thead th {\n",
       "        text-align: right;\n",
       "    }\n",
       "</style>\n",
       "<table border=\"1\" class=\"dataframe\">\n",
       "  <thead>\n",
       "    <tr style=\"text-align: right;\">\n",
       "      <th></th>\n",
       "      <th>age</th>\n",
       "      <th>experience</th>\n",
       "      <th>income</th>\n",
       "      <th>family</th>\n",
       "      <th>cc_avg</th>\n",
       "      <th>education</th>\n",
       "      <th>mortgage</th>\n",
       "      <th>personal_loan</th>\n",
       "      <th>securities_account</th>\n",
       "      <th>cd_account</th>\n",
       "      <th>online</th>\n",
       "      <th>credit_card</th>\n",
       "    </tr>\n",
       "  </thead>\n",
       "  <tbody>\n",
       "    <tr>\n",
       "      <th>0</th>\n",
       "      <td>-1.774417</td>\n",
       "      <td>-1.666078</td>\n",
       "      <td>-0.538229</td>\n",
       "      <td>4</td>\n",
       "      <td>-0.193385</td>\n",
       "      <td>0</td>\n",
       "      <td>-0.555524</td>\n",
       "      <td>0</td>\n",
       "      <td>1</td>\n",
       "      <td>0</td>\n",
       "      <td>0</td>\n",
       "      <td>0</td>\n",
       "    </tr>\n",
       "    <tr>\n",
       "      <th>1</th>\n",
       "      <td>-0.029524</td>\n",
       "      <td>-0.096330</td>\n",
       "      <td>-0.864109</td>\n",
       "      <td>3</td>\n",
       "      <td>-0.250611</td>\n",
       "      <td>0</td>\n",
       "      <td>-0.555524</td>\n",
       "      <td>0</td>\n",
       "      <td>1</td>\n",
       "      <td>0</td>\n",
       "      <td>0</td>\n",
       "      <td>0</td>\n",
       "    </tr>\n",
       "    <tr>\n",
       "      <th>2</th>\n",
       "      <td>-0.552992</td>\n",
       "      <td>-0.445163</td>\n",
       "      <td>-1.363793</td>\n",
       "      <td>1</td>\n",
       "      <td>-0.536736</td>\n",
       "      <td>0</td>\n",
       "      <td>-0.555524</td>\n",
       "      <td>0</td>\n",
       "      <td>0</td>\n",
       "      <td>0</td>\n",
       "      <td>0</td>\n",
       "      <td>0</td>\n",
       "    </tr>\n",
       "    <tr>\n",
       "      <th>3</th>\n",
       "      <td>-0.901970</td>\n",
       "      <td>-0.968413</td>\n",
       "      <td>0.569765</td>\n",
       "      <td>1</td>\n",
       "      <td>0.436091</td>\n",
       "      <td>1</td>\n",
       "      <td>-0.555524</td>\n",
       "      <td>0</td>\n",
       "      <td>0</td>\n",
       "      <td>0</td>\n",
       "      <td>0</td>\n",
       "      <td>0</td>\n",
       "    </tr>\n",
       "    <tr>\n",
       "      <th>4</th>\n",
       "      <td>-0.901970</td>\n",
       "      <td>-1.055621</td>\n",
       "      <td>-0.625130</td>\n",
       "      <td>4</td>\n",
       "      <td>-0.536736</td>\n",
       "      <td>1</td>\n",
       "      <td>-0.555524</td>\n",
       "      <td>0</td>\n",
       "      <td>0</td>\n",
       "      <td>0</td>\n",
       "      <td>0</td>\n",
       "      <td>1</td>\n",
       "    </tr>\n",
       "  </tbody>\n",
       "</table>\n",
       "</div>"
      ],
      "text/plain": [
       "        age  experience    income  family    cc_avg  education  mortgage  \\\n",
       "0 -1.774417   -1.666078 -0.538229       4 -0.193385          0 -0.555524   \n",
       "1 -0.029524   -0.096330 -0.864109       3 -0.250611          0 -0.555524   \n",
       "2 -0.552992   -0.445163 -1.363793       1 -0.536736          0 -0.555524   \n",
       "3 -0.901970   -0.968413  0.569765       1  0.436091          1 -0.555524   \n",
       "4 -0.901970   -1.055621 -0.625130       4 -0.536736          1 -0.555524   \n",
       "\n",
       "   personal_loan  securities_account  cd_account  online  credit_card  \n",
       "0              0                   1           0       0            0  \n",
       "1              0                   1           0       0            0  \n",
       "2              0                   0           0       0            0  \n",
       "3              0                   0           0       0            0  \n",
       "4              0                   0           0       0            1  "
      ]
     },
     "execution_count": 101,
     "metadata": {},
     "output_type": "execute_result"
    }
   ],
   "source": [
    "df.head()"
   ]
  },
  {
   "cell_type": "markdown",
   "metadata": {},
   "source": [
    "## Model Implementation &  Hyperparameter Turning\n",
    "\n",
    "References :\n",
    "* https://scikit-learn.org/stable/modules/generated/sklearn.ensemble.RandomForestClassifier.html\n",
    "* https://scikit-learn.org/stable/modules/generated/sklearn.ensemble.AdaBoostClassifier.html\n",
    "* https://scikit-learn.org/stable/modules/generated/sklearn.ensemble.GradientBoostingClassifier.html \n",
    "* https://scikit-learn.org/stable/modules/generated/sklearn.model_selection.GridSearchCV.html\n",
    "* https://scikit-learn.org/stable/modules/generated/sklearn.model_selection.RandomizedSearchCV.html\n",
    "* Grid Search vs Randomized Search:\n",
    "    - One of the main differences between random search and grid search is the way they search the hyperparameter space. Grid search evaluates the model's performance on a predefined grid of hyperparameters, whereas random search samples hyperparameters randomly from a distribution. \n",
    "    - Grid search can be more efficient in cases where the hyperparameters are highly correlated and have a strong interaction effect, but it can be computationally expensive when the hyperparameter space is large. On the other hand, the random search can be more efficient when the hyperparameter space is large and the optimal hyperparameters are not highly correlated. \n",
    "    - Another difference between random search and grid search is the number of hyperparameters they can search. Grid search can search a large number of hyperparameters, but it can become computationally expensive as the number of hyperparameters increases. Random search, on the other hand, can search a larger number of hyperparameters without becoming too computationally expensive, as it samples hyperparameters randomly.\n",
    "    - Important Params:\n",
    "        1. `cv` controls the number of folds used in cross-validation, affecting the accuracy of performance estimates\n",
    "        2. `n_jobs` controls parallelization, affecting the speed of grid search"
   ]
  },
  {
   "cell_type": "markdown",
   "metadata": {},
   "source": [
    "## Steps to follow\n",
    "\n",
    "### For every model\n",
    "\n",
    "1. Train Test Split using predefined method\n",
    "2. Apply Models & Hyperparameter Tuning\n",
    "    * Random Forest\n",
    "        - RandomSearch\n",
    "        - GridSearch\n",
    "        - Get the best model from the tuning best parameters\n",
    "    * Adaboost\n",
    "        - RandomSearch\n",
    "        - GridSearch        \n",
    "        - Get the best model from the tuning best parameters\n",
    "    * Gradient Boost\n",
    "        - RandomSearch\n",
    "        - GridSearch\n",
    "        - Get the best model from the tuning best parameters\n",
    "3. Final Comparison between models through the :\n",
    "    ```python\n",
    "    from sklearn.metrics import accuracy_score, precision_score, recall_score, f1_score\n",
    "    ```"
   ]
  },
  {
   "cell_type": "markdown",
   "metadata": {},
   "source": [
    "### Train Test split"
   ]
  },
  {
   "cell_type": "code",
   "execution_count": 102,
   "metadata": {},
   "outputs": [],
   "source": [
    "X = df.drop(\"personal_loan\", axis=1)\n",
    "y = df[\"personal_loan\"]\n",
    "\n",
    "X_train, X_test, y_train, y_test = train_test_split(X, y, test_size=0.2, random_state=42)\n"
   ]
  },
  {
   "cell_type": "markdown",
   "metadata": {},
   "source": [
    "### Random Forrest Classifier"
   ]
  },
  {
   "cell_type": "code",
   "execution_count": 103,
   "metadata": {},
   "outputs": [
    {
     "name": "stdout",
     "output_type": "stream",
     "text": [
      "Random Forest Classifier\n",
      "Accuracy: 0.991\n",
      "Precision: 0.9897959183673469\n",
      "Recall: 0.9238095238095239\n",
      "F1 Score: 0.9556650246305419\n"
     ]
    }
   ],
   "source": [
    "# Random Forest Classifier\n",
    "rf_model = RandomForestClassifier()\n",
    "rf_model.fit(X_train, y_train)\n",
    "y_pred = rf_model.predict(X_test)\n",
    "\n",
    "print(\"Random Forest Classifier\")\n",
    "print(\"Accuracy:\", accuracy_score(y_test, y_pred))\n",
    "print(\"Precision:\", precision_score(y_test, y_pred,zero_division=1))\n",
    "print(\"Recall:\", recall_score(y_test, y_pred,zero_division=1))\n",
    "print(\"F1 Score:\", f1_score(y_test, y_pred,zero_division=1))"
   ]
  },
  {
   "cell_type": "code",
   "execution_count": 104,
   "metadata": {},
   "outputs": [],
   "source": [
    "param_dist = {\n",
    "    \"n_estimators\": [100, 200, 300],\n",
    "    \"max_depth\": [None, 10, 20],\n",
    "    \"max_features\": [\"auto\", \"sqrt\"],\n",
    "}"
   ]
  },
  {
   "cell_type": "code",
   "execution_count": 105,
   "metadata": {},
   "outputs": [
    {
     "data": {
      "text/plain": [
       "{'n_estimators': 100, 'max_features': 'sqrt', 'max_depth': None}"
      ]
     },
     "execution_count": 105,
     "metadata": {},
     "output_type": "execute_result"
    }
   ],
   "source": [
    "rf_random_search = RandomizedSearchCV(\n",
    "    rf_model, param_distributions=param_dist, n_iter=50, cv=3)\n",
    "\n",
    "rf_random_search.fit(X_train, y_train)\n",
    "\n",
    "rf_random_search.best_params_"
   ]
  },
  {
   "cell_type": "code",
   "execution_count": 106,
   "metadata": {},
   "outputs": [
    {
     "data": {
      "text/plain": [
       "{'max_depth': None, 'max_features': 'sqrt', 'n_estimators': 100}"
      ]
     },
     "execution_count": 106,
     "metadata": {},
     "output_type": "execute_result"
    }
   ],
   "source": [
    "import warnings\n",
    "\n",
    "# Suppress warnings\n",
    "warnings.filterwarnings(\"ignore\")\n",
    "\n",
    "rf_grid_search = GridSearchCV(rf_model, param_grid=param_dist, cv=3, n_jobs=-1)\n",
    "\n",
    "rf_grid_search.fit(X_train, y_train)\n",
    "\n",
    "rf_grid_search.best_params_"
   ]
  },
  {
   "cell_type": "code",
   "execution_count": 107,
   "metadata": {},
   "outputs": [
    {
     "name": "stdout",
     "output_type": "stream",
     "text": [
      "Random Forest Classifier with best hyperparameters\n",
      "Accuracy: 0.991\n",
      "Precision: 0.9897959183673469\n",
      "Recall: 0.9238095238095239\n",
      "F1 Score: 0.9556650246305419\n"
     ]
    }
   ],
   "source": [
    "# Random Forest Classifier with best hyperparameters\n",
    "MAX_DEPTH = 10\n",
    "BOOTSTRAP = False\n",
    "MIN_SAMPLES_LEAF = 1\n",
    "MIN_SAMPLES_SPLIT = 2\n",
    "N_ESTIMATORS = 150\n",
    "MAX_FEATURES = 'sqrt'\n",
    "\n",
    "rf_model_best = RandomForestClassifier(\n",
    "    max_depth=MAX_DEPTH,\n",
    "    bootstrap=BOOTSTRAP,\n",
    "    min_samples_leaf=MIN_SAMPLES_LEAF,\n",
    "    min_samples_split=MIN_SAMPLES_SPLIT,\n",
    "    n_estimators=N_ESTIMATORS,\n",
    "    max_features=MAX_FEATURES,\n",
    ")\n",
    "\n",
    "rf_model_best.fit(X_train, y_train)\n",
    "y_pred_best = rf_model_best.predict(X_test)\n",
    "\n",
    "# Model evaluation\n",
    "print(\"Random Forest Classifier with best hyperparameters\")\n",
    "print(\"Accuracy:\", accuracy_score(y_test, y_pred))\n",
    "print(\"Precision:\", precision_score(y_test, y_pred,zero_division=1))\n",
    "print(\"Recall:\", recall_score(y_test, y_pred,zero_division=1))\n",
    "print(\"F1 Score:\", f1_score(y_test, y_pred,zero_division=1))"
   ]
  },
  {
   "cell_type": "markdown",
   "metadata": {},
   "source": [
    "### AdaBoost"
   ]
  },
  {
   "cell_type": "code",
   "execution_count": 110,
   "metadata": {},
   "outputs": [
    {
     "name": "stdout",
     "output_type": "stream",
     "text": [
      "AdaBoost Classifier\n",
      "Accuracy: 0.971\n",
      "Precision: 0.8958333333333334\n",
      "Recall: 0.819047619047619\n",
      "F1 Score: 0.855721393034826\n"
     ]
    }
   ],
   "source": [
    "# AdaBoost Classifier\n",
    "ada_model = AdaBoostClassifier()\n",
    "ada_model.fit(X_train, y_train)\n",
    "y_pred = ada_model.predict(X_test)\n",
    "\n",
    "# Model evaluation\n",
    "print(\"AdaBoost Classifier\")\n",
    "print(\"Accuracy:\", accuracy_score(y_test, y_pred))\n",
    "print(\"Precision:\", precision_score(y_test, y_pred,zero_division=1))\n",
    "print(\"Recall:\", recall_score(y_test, y_pred,zero_division=1))\n",
    "print(\"F1 Score:\", f1_score(y_test, y_pred,zero_division=1))"
   ]
  },
  {
   "cell_type": "code",
   "execution_count": 111,
   "metadata": {},
   "outputs": [],
   "source": [
    "# Hyperparameters\n",
    "param_dist = {\n",
    "    \"n_estimators\": [50, 100, 150],\n",
    "    \"learning_rate\": [0.01, 0.1, 1],\n",
    "}"
   ]
  },
  {
   "cell_type": "code",
   "execution_count": 112,
   "metadata": {},
   "outputs": [
    {
     "data": {
      "text/plain": [
       "{'n_estimators': 100, 'learning_rate': 1}"
      ]
     },
     "execution_count": 112,
     "metadata": {},
     "output_type": "execute_result"
    }
   ],
   "source": [
    "import warnings\n",
    "\n",
    "# Suppress warnings\n",
    "warnings.filterwarnings(\"ignore\")\n",
    "\n",
    "ada_random_search = RandomizedSearchCV(\n",
    "    ada_model, param_distributions=param_dist, n_iter=50, cv=3)\n",
    "\n",
    "ada_random_search.fit(X_train, y_train)\n",
    "\n",
    "ada_random_search.best_params_"
   ]
  },
  {
   "cell_type": "code",
   "execution_count": 113,
   "metadata": {},
   "outputs": [
    {
     "data": {
      "text/plain": [
       "{'learning_rate': 1, 'n_estimators': 100}"
      ]
     },
     "execution_count": 113,
     "metadata": {},
     "output_type": "execute_result"
    }
   ],
   "source": [
    "import warnings\n",
    "\n",
    "# Suppress warnings\n",
    "warnings.filterwarnings(\"ignore\")\n",
    "\n",
    "ada_grid_search = GridSearchCV(ada_model, param_grid=param_dist, cv=3, n_jobs=-1)\n",
    "\n",
    "ada_grid_search.fit(X_train, y_train)\n",
    "\n",
    "ada_grid_search.best_params_"
   ]
  },
  {
   "cell_type": "code",
   "execution_count": 115,
   "metadata": {},
   "outputs": [
    {
     "name": "stdout",
     "output_type": "stream",
     "text": [
      "AdaBoost Classifier with best hyperparameters\n",
      "Accuracy: 0.971\n",
      "Precision: 0.8958333333333334\n",
      "Recall: 0.819047619047619\n",
      "F1 Score: 0.855721393034826\n"
     ]
    }
   ],
   "source": [
    "# AdaBoost Classifier with best hyperparameters\n",
    "N_ESTIMATORS = 150\n",
    "LEARNING_RATE = 1\n",
    "\n",
    "ada_model_best = AdaBoostClassifier(\n",
    "    n_estimators=N_ESTIMATORS,\n",
    "    learning_rate=LEARNING_RATE,\n",
    ")\n",
    "\n",
    "ada_model_best.fit(X_train, y_train)\n",
    "y_pred_best = ada_model_best.predict(X_test)\n",
    "\n",
    "# Model evaluation\n",
    "print(\"AdaBoost Classifier with best hyperparameters\")\n",
    "print(\"Accuracy:\", accuracy_score(y_test, y_pred))\n",
    "print(\"Precision:\", precision_score(y_test, y_pred,zero_division=1))\n",
    "print(\"Recall:\", recall_score(y_test, y_pred,zero_division=1))\n",
    "print(\"F1 Score:\", f1_score(y_test, y_pred,zero_division=1))"
   ]
  },
  {
   "cell_type": "markdown",
   "metadata": {},
   "source": [
    "### Gradient Boost"
   ]
  },
  {
   "cell_type": "code",
   "execution_count": 118,
   "metadata": {},
   "outputs": [
    {
     "name": "stdout",
     "output_type": "stream",
     "text": [
      "Gradient Boosting Classifier\n",
      "Accuracy: 0.992\n",
      "Precision: 0.98989898989899\n",
      "Recall: 0.9333333333333333\n",
      "F1 Score: 0.9607843137254903\n"
     ]
    }
   ],
   "source": [
    "# Gradient Boosting Classifier\n",
    "gb_model = GradientBoostingClassifier()\n",
    "gb_model.fit(X_train, y_train)\n",
    "y_pred = gb_model.predict(X_test)\n",
    "\n",
    "print(\"Gradient Boosting Classifier\")\n",
    "print(\"Accuracy:\", accuracy_score(y_test, y_pred))\n",
    "print(\"Precision:\", precision_score(y_test, y_pred,zero_division=1))\n",
    "print(\"Recall:\", recall_score(y_test, y_pred,zero_division=1))\n",
    "print(\"F1 Score:\", f1_score(y_test, y_pred,zero_division=1))"
   ]
  },
  {
   "cell_type": "code",
   "execution_count": 119,
   "metadata": {},
   "outputs": [],
   "source": [
    "# Hyperparameters\n",
    "param_dist = {\n",
    "    \"n_estimators\": [50, 100, 150],\n",
    "    \"max_depth\": [3, 5, 7],\n",
    "    \"learning_rate\": [0.01, 0.1, 1],\n",
    "}"
   ]
  },
  {
   "cell_type": "code",
   "execution_count": 120,
   "metadata": {},
   "outputs": [
    {
     "data": {
      "text/plain": [
       "{'n_estimators': 150, 'max_depth': 3, 'learning_rate': 0.1}"
      ]
     },
     "execution_count": 120,
     "metadata": {},
     "output_type": "execute_result"
    }
   ],
   "source": [
    "import warnings\n",
    "\n",
    "# Suppress warnings\n",
    "warnings.filterwarnings(\"ignore\")\n",
    "\n",
    "gb_random_search = RandomizedSearchCV(\n",
    "    gb_model, param_distributions=param_dist, n_iter=50, cv=3)\n",
    "\n",
    "gb_random_search.fit(X_train, y_train)\n",
    "\n",
    "gb_random_search.best_params_"
   ]
  },
  {
   "cell_type": "code",
   "execution_count": 121,
   "metadata": {},
   "outputs": [
    {
     "data": {
      "text/plain": [
       "{'learning_rate': 0.1, 'max_depth': 3, 'n_estimators': 150}"
      ]
     },
     "execution_count": 121,
     "metadata": {},
     "output_type": "execute_result"
    }
   ],
   "source": [
    "import warnings\n",
    "\n",
    "# Suppress warnings\n",
    "warnings.filterwarnings(\"ignore\")\n",
    "\n",
    "gb_grid_search = GridSearchCV(gb_model, param_grid=param_dist, cv=3, n_jobs=-1)\n",
    "\n",
    "gb_grid_search.fit(X_train, y_train)\n",
    "\n",
    "gb_grid_search.best_params_"
   ]
  },
  {
   "cell_type": "code",
   "execution_count": 123,
   "metadata": {},
   "outputs": [
    {
     "name": "stdout",
     "output_type": "stream",
     "text": [
      "Gradient Boosting Classifier with best hyperparameters\n",
      "Accuracy: 0.992\n",
      "Precision: 0.98989898989899\n",
      "Recall: 0.9333333333333333\n",
      "F1 Score: 0.9607843137254903\n"
     ]
    }
   ],
   "source": [
    "# Gradient Boosting Classifier with best hyperparameters\n",
    "N_ESTIMATORS = 150\n",
    "MAX_DEPTH = 3\n",
    "LEARNING_RATE = 0.1\n",
    "\n",
    "gb_model_best = GradientBoostingClassifier(\n",
    "    n_estimators=N_ESTIMATORS,\n",
    "    max_depth=MAX_DEPTH,\n",
    "    learning_rate=LEARNING_RATE,\n",
    ")\n",
    "\n",
    "gb_model_best.fit(X_train, y_train)\n",
    "y_pred_best = gb_model_best.predict(X_test)\n",
    "\n",
    "print(\"Gradient Boosting Classifier with best hyperparameters\")\n",
    "print(\"Accuracy:\", accuracy_score(y_test, y_pred))\n",
    "print(\"Precision:\", precision_score(y_test, y_pred,zero_division=1))\n",
    "print(\"Recall:\", recall_score(y_test, y_pred,zero_division=1))\n",
    "print(\"F1 Score:\", f1_score(y_test, y_pred,zero_division=1))"
   ]
  },
  {
   "cell_type": "markdown",
   "metadata": {},
   "source": [
    "## Final Comparison"
   ]
  },
  {
   "cell_type": "code",
   "execution_count": 126,
   "metadata": {},
   "outputs": [
    {
     "data": {
      "text/html": [
       "<div>\n",
       "<style scoped>\n",
       "    .dataframe tbody tr th:only-of-type {\n",
       "        vertical-align: middle;\n",
       "    }\n",
       "\n",
       "    .dataframe tbody tr th {\n",
       "        vertical-align: top;\n",
       "    }\n",
       "\n",
       "    .dataframe thead th {\n",
       "        text-align: right;\n",
       "    }\n",
       "</style>\n",
       "<table border=\"1\" class=\"dataframe\">\n",
       "  <thead>\n",
       "    <tr style=\"text-align: right;\">\n",
       "      <th></th>\n",
       "      <th>Model</th>\n",
       "      <th>Accuracy</th>\n",
       "      <th>Precision</th>\n",
       "      <th>Recall</th>\n",
       "      <th>F1 Score</th>\n",
       "    </tr>\n",
       "  </thead>\n",
       "  <tbody>\n",
       "    <tr>\n",
       "      <th>0</th>\n",
       "      <td>Random Forest Classifier</td>\n",
       "      <td>0.991</td>\n",
       "      <td>0.989796</td>\n",
       "      <td>0.923810</td>\n",
       "      <td>0.955665</td>\n",
       "    </tr>\n",
       "    <tr>\n",
       "      <th>1</th>\n",
       "      <td>Random Forest Classifier with best hyperparame...</td>\n",
       "      <td>0.990</td>\n",
       "      <td>0.979798</td>\n",
       "      <td>0.923810</td>\n",
       "      <td>0.950980</td>\n",
       "    </tr>\n",
       "    <tr>\n",
       "      <th>2</th>\n",
       "      <td>AdaBoost Classifier</td>\n",
       "      <td>0.971</td>\n",
       "      <td>0.895833</td>\n",
       "      <td>0.819048</td>\n",
       "      <td>0.855721</td>\n",
       "    </tr>\n",
       "    <tr>\n",
       "      <th>3</th>\n",
       "      <td>AdaBoost Classifier with best hyperparameters</td>\n",
       "      <td>0.970</td>\n",
       "      <td>0.886598</td>\n",
       "      <td>0.819048</td>\n",
       "      <td>0.851485</td>\n",
       "    </tr>\n",
       "    <tr>\n",
       "      <th>4</th>\n",
       "      <td>Gradient Boosting Classifier</td>\n",
       "      <td>0.992</td>\n",
       "      <td>0.989899</td>\n",
       "      <td>0.933333</td>\n",
       "      <td>0.960784</td>\n",
       "    </tr>\n",
       "    <tr>\n",
       "      <th>5</th>\n",
       "      <td>Gradient Boosting Classifier with best hyperpa...</td>\n",
       "      <td>0.992</td>\n",
       "      <td>0.989899</td>\n",
       "      <td>0.933333</td>\n",
       "      <td>0.960784</td>\n",
       "    </tr>\n",
       "  </tbody>\n",
       "</table>\n",
       "</div>"
      ],
      "text/plain": [
       "                                               Model  Accuracy  Precision  \\\n",
       "0                           Random Forest Classifier     0.991   0.989796   \n",
       "1  Random Forest Classifier with best hyperparame...     0.990   0.979798   \n",
       "2                                AdaBoost Classifier     0.971   0.895833   \n",
       "3      AdaBoost Classifier with best hyperparameters     0.970   0.886598   \n",
       "4                       Gradient Boosting Classifier     0.992   0.989899   \n",
       "5  Gradient Boosting Classifier with best hyperpa...     0.992   0.989899   \n",
       "\n",
       "     Recall  F1 Score  \n",
       "0  0.923810  0.955665  \n",
       "1  0.923810  0.950980  \n",
       "2  0.819048  0.855721  \n",
       "3  0.819048  0.851485  \n",
       "4  0.933333  0.960784  \n",
       "5  0.933333  0.960784  "
      ]
     },
     "execution_count": 126,
     "metadata": {},
     "output_type": "execute_result"
    }
   ],
   "source": [
    "# Comparing the performance of the models\n",
    "models = [\n",
    "    \"Random Forest Classifier\",\n",
    "    \"Random Forest Classifier with best hyperparameters\",\n",
    "    \"AdaBoost Classifier\",\n",
    "    \"AdaBoost Classifier with best hyperparameters\",\n",
    "    \"Gradient Boosting Classifier\",\n",
    "    \"Gradient Boosting Classifier with best hyperparameters\",\n",
    "]\n",
    "\n",
    "accuracies = [\n",
    "    accuracy_score(y_test, rf_model.predict(X_test)),\n",
    "    accuracy_score(y_test, rf_model_best.predict(X_test)),\n",
    "    accuracy_score(y_test, ada_model.predict(X_test)),\n",
    "    accuracy_score(y_test, ada_model_best.predict(X_test)),\n",
    "    accuracy_score(y_test, gb_model.predict(X_test)),\n",
    "    accuracy_score(y_test, gb_model_best.predict(X_test)),\n",
    "]\n",
    "\n",
    "precisions = [\n",
    "    precision_score(y_test, rf_model.predict(X_test), zero_division=1),\n",
    "    precision_score(y_test, rf_model_best.predict(X_test), zero_division=1),\n",
    "    precision_score(y_test, ada_model.predict(X_test), zero_division=1),\n",
    "    precision_score(y_test, ada_model_best.predict(X_test), zero_division=1),\n",
    "    precision_score(y_test, gb_model.predict(X_test), zero_division=1),\n",
    "    precision_score(y_test, gb_model_best.predict(X_test), zero_division=1),\n",
    "]\n",
    "\n",
    "recalls = [\n",
    "    recall_score(y_test, rf_model.predict(X_test), zero_division=1),\n",
    "    recall_score(y_test, rf_model_best.predict(X_test), zero_division=1),\n",
    "    recall_score(y_test, ada_model.predict(X_test), zero_division=1),\n",
    "    recall_score(y_test, ada_model_best.predict(X_test), zero_division=1),\n",
    "    recall_score(y_test, gb_model.predict(X_test), zero_division=1),\n",
    "    recall_score(y_test, gb_model_best.predict(X_test), zero_division=1),\n",
    "]\n",
    "\n",
    "f1_scores = [\n",
    "    f1_score(y_test, rf_model.predict(X_test), zero_division=1),\n",
    "    f1_score(y_test, rf_model_best.predict(X_test), zero_division=1),\n",
    "    f1_score(y_test, ada_model.predict(X_test), zero_division=1),\n",
    "    f1_score(y_test, ada_model_best.predict(X_test), zero_division=1),\n",
    "    f1_score(y_test, gb_model.predict(X_test), zero_division=1),\n",
    "    f1_score(y_test, gb_model_best.predict(X_test), zero_division=1),\n",
    "]\n",
    "\n",
    "model_comparison = pd.DataFrame({\n",
    "    \"Model\": models,\n",
    "    \"Accuracy\": accuracies,\n",
    "    \"Precision\": precisions,\n",
    "    \"Recall\": recalls,\n",
    "    \"F1 Score\": f1_scores,\n",
    "})\n",
    "\n",
    "model_comparison"
   ]
  },
  {
   "cell_type": "code",
   "execution_count": 133,
   "metadata": {},
   "outputs": [
    {
     "data": {
      "image/png": "[encoded data removed]",
      "text/plain": [
       "<Figure size 1000x600 with 1 Axes>"
      ]
     },
     "metadata": {},
     "output_type": "display_data"
    }
   ],
   "source": [
    "# Another type of plot\n",
    "model_comparison.plot(kind=\"bar\", x=\"Model\", figsize=(10, 6))\n",
    "\n",
    "plt.title(\"Model Comparison\")\n",
    "plt.xlabel(\"Model\")\n",
    "plt.ylabel(\"Score\")\n",
    "plt.xticks(rotation=90)\n",
    "plt.show()"
   ]
  }
 ],
 "metadata": {
  "kernelspec": {
   "display_name": "Python 3",
   "language": "python",
   "name": "python3"
  },
  "language_info": {
   "codemirror_mode": {
    "name": "ipython",
    "version": 3
   },
   "file_extension": ".py",
   "mimetype": "text/x-python",
   "name": "python",
   "nbconvert_exporter": "python",
   "pygments_lexer": "ipython3",
   "version": "3.12.1"
  }
 },
 "nbformat": 4,
 "nbformat_minor": 2
}
