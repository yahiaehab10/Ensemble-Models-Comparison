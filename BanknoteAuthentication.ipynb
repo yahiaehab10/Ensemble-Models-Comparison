{
 "cells": [
  {
   "cell_type": "markdown",
   "metadata": {},
   "source": [
    "# BanknoteAuthentication Dataset\n",
    "\n",
    "Responsibility : Mohamed Khaled"
   ]
  },
  {
   "cell_type": "markdown",
   "metadata": {},
   "source": [
    "## Imports"
   ]
  },
  {
   "cell_type": "code",
   "execution_count": 24,
   "metadata": {},
   "outputs": [],
   "source": [
    "# For data manipulation and analysis\n",
    "import pandas as pd\n",
    "import numpy as np\n",
    "\n",
    "# For data preprocessing\n",
    "from sklearn.preprocessing import StandardScaler, LabelEncoder\n",
    "from sklearn.impute import SimpleImputer\n",
    "from sklearn.model_selection import train_test_split\n",
    "\n",
    "# For implementing ensemble models\n",
    "from sklearn.ensemble import (\n",
    "    RandomForestClassifier,\n",
    "    AdaBoostClassifier,\n",
    "    GradientBoostingClassifier,\n",
    ")\n",
    "\n",
    "# For hyperparameter tuning\n",
    "from sklearn.model_selection import GridSearchCV, RandomizedSearchCV\n",
    "\n",
    "# For model evaluation\n",
    "from sklearn.metrics import accuracy_score, precision_score, recall_score, f1_score\n",
    "\n",
    "# For visualization\n",
    "import matplotlib.pyplot as plt\n",
    "import seaborn as sns"
   ]
  },
  {
   "cell_type": "markdown",
   "metadata": {},
   "source": [
    "## Dataset Selection"
   ]
  },
  {
   "cell_type": "code",
   "execution_count": null,
   "metadata": {},
   "outputs": [],
   "source": [
    "df = pd.read_csv(\n",
    "    \"./AMLAss1Datasets/data_banknote_authentication.csv\"\n",
    ")  # Suitable for classification"
   ]
  },
  {
   "cell_type": "markdown",
   "metadata": {},
   "source": [
    "##  Preprocessing\n",
    "* Dataset has no nulls\n",
    "* All columns will be used in our project\n",
    "* Scaling the numerical features \n",
    "    ```python\n",
    "    StandardScaler() #Scaling data to fit a standard normal distribution\n",
    "    ```\n",
    "* Removing outliers using `IQR` method"
   ]
  },
  {
   "cell_type": "code",
   "execution_count": null,
   "metadata": {},
   "outputs": [],
   "source": [
    "# Renaming the columns\n",
    "df.columns = [\n",
    "    \"variance_wavelet\", \"skewness_wavelet\", \"curtosis_wavelet\", \"image_entropy\", \"class\"\n",
    "]"
   ]
  },
  {
   "cell_type": "code",
   "execution_count": null,
   "metadata": {},
   "outputs": [],
   "source": [
    "# Scaling the numerical features\n",
    "scaler = StandardScaler()\n",
    "df[[\"variance_wavelet\", \"skewness_wavelet\", \"curtosis_wavelet\", \"image_entropy\"]] = scaler.fit_transform(\n",
    "    df[[\"variance_wavelet\", \"skewness_wavelet\", \"curtosis_wavelet\", \"image_entropy\"]]\n",
    ")"
   ]
  },
  {
   "cell_type": "code",
   "execution_count": null,
   "metadata": {},
   "outputs": [],
   "source": [
    "df.head()"
   ]
  },
  {
   "cell_type": "markdown",
   "metadata": {},
   "source": [
    "# Models"
   ]
  },
  {
   "cell_type": "code",
   "execution_count": null,
   "metadata": {},
   "outputs": [],
   "source": [
    "# Train test split\n",
    "X = df.drop(\"class\", axis=1)\n",
    "y = df[\"class\"]\n",
    "X_train, X_test, y_train, y_test = train_test_split(X, y, test_size=0.2, random_state=42)"
   ]
  },
  {
   "cell_type": "markdown",
   "metadata": {},
   "source": [
    "## Random Forest"
   ]
  },
  {
   "cell_type": "code",
   "execution_count": null,
   "metadata": {},
   "outputs": [],
   "source": [
    "# Extra Imports\n",
    "from sklearn.metrics import ConfusionMatrixDisplay, confusion_matrix"
   ]
  },
  {
   "cell_type": "code",
   "execution_count": 37,
   "metadata": {},
   "outputs": [],
   "source": [
    "rf_1 = RandomForestClassifier()"
   ]
  },
  {
   "cell_type": "markdown",
   "metadata": {},
   "source": [
    "### Hyperparametre Tuning\n",
    "- Defined a range of estimators, features and bootstrap state\n",
    "- These are then used to figure out the best parametres using GridSearchCV()\n",
    "- The model trains on the dataset then predictions are done\n",
    "- Evaluations are calculated and shown"
   ]
  },
  {
   "cell_type": "markdown",
   "metadata": {},
   "source": [
    "#### Choosing the correct number of trees"
   ]
  },
  {
   "cell_type": "code",
   "execution_count": 38,
   "metadata": {},
   "outputs": [],
   "source": [
    "# Having a range of parameters to test\n",
    "n = [64, 100, 128, 200]\n",
    "max_features = [\"sqrt\", \"log2\"]\n",
    "bootstrap = [True, False]"
   ]
  },
  {
   "cell_type": "code",
   "execution_count": 39,
   "metadata": {},
   "outputs": [
    {
     "name": "stdout",
     "output_type": "stream",
     "text": [
      "Best Parameters: {'bootstrap': True, 'max_features': 'sqrt', 'n_estimators': 100}\n",
      "Best Accuracy: 0.9927189324437032\n"
     ]
    }
   ],
   "source": [
    "param_grid = {\n",
    "    \"n_estimators\": n,\n",
    "    \"max_features\": max_features,\n",
    "    \"bootstrap\": bootstrap,\n",
    "}\n",
    "\n",
    "clf = GridSearchCV(rf_1, param_grid, cv=10, scoring=\"accuracy\")\n",
    "clf.fit(X_train, y_train)\n",
    "print(\"Best Parameters:\", clf.best_params_)\n",
    "print(\"Best Accuracy:\", clf.best_score_)"
   ]
  },
  {
   "cell_type": "code",
   "execution_count": 40,
   "metadata": {},
   "outputs": [],
   "source": [
    "# Training the model with the best parameters\n",
    "rf = RandomForestClassifier(\n",
    "    n_estimators=clf.best_params_[\"n_estimators\"],\n",
    "    max_features=clf.best_params_[\"max_features\"],\n",
    "    bootstrap=clf.best_params_[\"bootstrap\"],\n",
    ")\n",
    "\n",
    "rf.fit(X_train, y_train)"
   ]
  },
  {
   "cell_type": "code",
   "execution_count": 71,
   "metadata": {},
   "outputs": [
    {
     "name": "stdout",
     "output_type": "stream",
     "text": [
      "Random Forest Classifier\n",
      "Accuracy: 0.9927272727272727\n",
      "Confusion Matrix: [[148   0]\n",
      " [  2 125]]\n",
      "Precision: 1.0\n",
      "Recall: 0.984251968503937\n",
      "F1 Score: 0.9920634920634921\n"
     ]
    }
   ],
   "source": [
    "# Predictions\n",
    "y_pred = rf.predict(X_test)\n",
    "accuracy = accuracy_score(y_test, y_pred)\n",
    "cm = confusion_matrix(y_test, y_pred)\n",
    "precision = precision_score(y_test, y_pred)\n",
    "recall = recall_score(y_test, y_pred)\n",
    "f1 = f1_score(y_test, y_pred)\n",
    "\n",
    "# Displaying the prediction evals\n",
    "print(\"Random Forest Classifier\")\n",
    "print(\"Accuracy:\", accuracy)\n",
    "print(\"Confusion Matrix:\", cm)\n",
    "print(\"Precision:\", precision)\n",
    "print(\"Recall:\", recall)\n",
    "print(\"F1 Score:\", f1)"
   ]
  },
  {
   "cell_type": "markdown",
   "metadata": {},
   "source": [
    "## AdaBoost"
   ]
  },
  {
   "cell_type": "code",
   "execution_count": 65,
   "metadata": {},
   "outputs": [],
   "source": [
    "# AdaBoost\n",
    "ada = AdaBoostClassifier()"
   ]
  },
  {
   "cell_type": "markdown",
   "metadata": {},
   "source": [
    "### Hyperparametre Tuning\n",
    "- Defined a range of estimators, learning rates, random values and the boosting algortithm to use\n",
    "- These are then used to figure out the best parametres using GridSearchCV()\n",
    "- The model trains on the dataset then predictions are done\n",
    "- Evaluations are calculated and shown"
   ]
  },
  {
   "cell_type": "code",
   "execution_count": 66,
   "metadata": {},
   "outputs": [],
   "source": [
    "# Having a range of parameters to test\n",
    "n_ada = [64, 100, 200, 500, 700, 1000]\n",
    "learning_rate = [0.1, 0.5, 1, 1.5, 2.0]\n",
    "random = [None, 42]\n",
    "algorithm = [\"SAMME\"]"
   ]
  },
  {
   "cell_type": "code",
   "execution_count": 67,
   "metadata": {},
   "outputs": [
    {
     "name": "stdout",
     "output_type": "stream",
     "text": [
      "Best Parameters: {'algorithm': 'SAMME', 'learning_rate': 0.5, 'n_estimators': 500, 'random_state': None}\n",
      "Best Accuracy: 0.9981734778982485\n"
     ]
    }
   ],
   "source": [
    "param_grid = {\n",
    "    \"n_estimators\": n_ada,\n",
    "    \"learning_rate\": learning_rate,\n",
    "    \"random_state\": random,\n",
    "    \"algorithm\": algorithm,\n",
    "}\n",
    "\n",
    "clf = GridSearchCV(ada, param_grid, cv=10, scoring=\"accuracy\")\n",
    "clf.fit(X_train, y_train)\n",
    "print(\"Best Parameters:\", clf.best_params_)\n",
    "print(\"Best Accuracy:\", clf.best_score_)"
   ]
  },
  {
   "cell_type": "code",
   "execution_count": 68,
   "metadata": {},
   "outputs": [],
   "source": [
    "# Training the model with the best parameters\n",
    "ada = AdaBoostClassifier(\n",
    "    n_estimators=clf.best_params_[\"n_estimators\"],\n",
    "    learning_rate=clf.best_params_[\"learning_rate\"],\n",
    "    random_state=clf.best_params_[\"random_state\"],\n",
    "    algorithm=clf.best_params_[\"algorithm\"],\n",
    ")\n",
    "\n",
    "ada.fit(X_train, y_train)"
   ]
  },
  {
   "cell_type": "code",
   "execution_count": 72,
   "metadata": {},
   "outputs": [
    {
     "name": "stdout",
     "output_type": "stream",
     "text": [
      "AdaBoost Classifier\n",
      "Accuracy: 0.9963636363636363\n",
      "Confusion Matrix: [[148   0]\n",
      " [  1 126]]\n",
      "Precision: 1.0\n",
      "Recall: 0.9921259842519685\n",
      "F1 Score: 0.9960474308300395\n"
     ]
    }
   ],
   "source": [
    "# Predictions\n",
    "y_pred = ada.predict(X_test)\n",
    "accuracy = accuracy_score(y_test, y_pred)\n",
    "cm = confusion_matrix(y_test, y_pred)\n",
    "precision = precision_score(y_test, y_pred)\n",
    "recall = recall_score(y_test, y_pred)\n",
    "f1 = f1_score(y_test, y_pred)\n",
    "\n",
    "# Displaying the prediction evals\n",
    "print(\"AdaBoost Classifier\")\n",
    "print(\"Accuracy:\", accuracy)\n",
    "print(\"Confusion Matrix:\", cm)\n",
    "print(\"Precision:\", precision)\n",
    "print(\"Recall:\", recall)\n",
    "print(\"F1 Score:\", f1)"
   ]
  },
  {
   "cell_type": "markdown",
   "metadata": {},
   "source": [
    "## Gradient Boost"
   ]
  },
  {
   "cell_type": "code",
   "execution_count": 59,
   "metadata": {},
   "outputs": [],
   "source": [
    "# Gradient Boosting\n",
    "gb = GradientBoostingClassifier()"
   ]
  },
  {
   "cell_type": "markdown",
   "metadata": {},
   "source": [
    "### Hyperparametre Tuning"
   ]
  },
  {
   "cell_type": "code",
   "execution_count": 62,
   "metadata": {},
   "outputs": [],
   "source": [
    "# Having a range of parameters to test\n",
    "n_gb = [64, 100, 200, 500, 700, 1000]\n",
    "learning_rate = [0.1, 0.5, 1, 1.5, 2.0]\n",
    "loss = [\"log_loss\", \"exponential\"]"
   ]
  },
  {
   "cell_type": "code",
   "execution_count": 73,
   "metadata": {},
   "outputs": [],
   "source": [
    "param_grid = {\n",
    "    \"n_estimators\": n_gb,\n",
    "    \"learning_rate\": learning_rate,\n",
    "    \"loss\": loss,\n",
    "}\n",
    "\n",
    "clf = GridSearchCV(gb, param_grid, cv=10, scoring=\"accuracy\")\n",
    "clf.fit(X_train, y_train)\n",
    "print(\"Best Parameters:\", clf.best_params_)\n",
    "print(\"Best Accuracy:\", clf.best_score_)"
   ]
  },
  {
   "cell_type": "code",
   "execution_count": null,
   "metadata": {},
   "outputs": [],
   "source": [
    "# Training the model with the best parameters\n",
    "gb = GradientBoostingClassifier(\n",
    "    n_estimators=clf.best_params_[\"n_estimators\"],\n",
    "    learning_rate=clf.best_params_[\"learning_rate\"],\n",
    "    subsample=clf.best_params_[\"subsample\"],\n",
    "    loss=clf.best_params_[\"loss\"],\n",
    ")\n",
    "\n",
    "gb.fit(X_train, y_train)"
   ]
  },
  {
   "cell_type": "code",
   "execution_count": null,
   "metadata": {},
   "outputs": [],
   "source": [
    "# Predictions\n",
    "y_pred = gb.predict(X_test)\n",
    "accuracy = accuracy_score(y_test, y_pred)\n",
    "cm = confusion_matrix(y_test, y_pred)\n",
    "precision = precision_score(y_test, y_pred)\n",
    "recall = recall_score(y_test, y_pred)\n",
    "f1 = f1_score(y_test, y_pred)\n",
    "\n",
    "# Displaying the prediction evals\n",
    "print(\"Gradient Boosting Classifier\")\n",
    "print(\"Accuracy:\", accuracy)\n",
    "print(\"Confusion Matrix:\", cm)\n",
    "print(\"Precision:\", precision)\n",
    "print(\"Recall:\", recall)\n",
    "print(\"F1 Score:\", f1)"
   ]
  },
  {
   "cell_type": "markdown",
   "metadata": {},
   "source": [
    "## Model Implementation & Hyperparameter Turning\n",
    "\n",
    "References :\n",
    "* https://scikit-learn.org/stable/modules/generated/sklearn.ensemble.RandomForestClassifier.html\n",
    "* https://scikit-learn.org/stable/modules/generated/sklearn.ensemble.AdaBoostClassifier.html\n",
    "* https://scikit-learn.org/stable/modules/generated/sklearn.ensemble.GradientBoostingClassifier.html\n",
    "* https://scikit-learn.org/stable/modules/generated/sklearn.model_selection.GridSearchCV.html\n",
    "* https://scikit-learn.org/stable/modules/generated/sklearn.model_selection.RandomizedSearchCV.html"
   ]
  }
 ],
 "metadata": {
  "kernelspec": {
   "display_name": "Python 3",
   "language": "python",
   "name": "python3"
  },
  "language_info": {
   "codemirror_mode": {
    "name": "ipython",
    "version": 3
   },
   "file_extension": ".py",
   "mimetype": "text/x-python",
   "name": "python",
   "nbconvert_exporter": "python",
   "pygments_lexer": "ipython3",
   "version": "3.12.2"
  }
 },
 "nbformat": 4,
 "nbformat_minor": 2
}
