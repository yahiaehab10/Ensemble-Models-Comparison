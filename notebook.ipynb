{
 "cells": [
  {
   "cell_type": "markdown",
   "metadata": {},
   "source": [
    "# Machine Learning Project I\n",
    "\n",
    "Contributors:\n",
    "* Yahia Ehab : 70-37125\n",
    "* Mohamed Khaled : 70-00436\n",
    "* Mariam Amr : 70-01053"
   ]
  }
 ],
 "metadata": {
  "language_info": {
   "name": "python"
  }
 },
 "nbformat": 4,
 "nbformat_minor": 2
}
